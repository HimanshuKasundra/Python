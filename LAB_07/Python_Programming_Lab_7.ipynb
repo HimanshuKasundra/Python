{
  "cells": [
    {
      "cell_type": "markdown",
      "metadata": {
        "id": "xaOUD2ljvUax"
      },
      "source": [
        "<a href='https://www.darshan.ac.in/'> <img src='https://www.darshan.ac.in/Content/media/DU_Logo.svg' width=\"250\" height=\"300\"/></a>\n",
        "<pre>\n",
        "<center><b><h1>Python Programming - 2101CS405</b></center>\n",
        "<center><b><h1>Lab - 7</b></center>    \n",
        "<pre>"
      ]
    },
    {
      "cell_type": "markdown",
      "metadata": {
        "id": "GdDwXeVovUbC"
      },
      "source": [
        "# Functions"
      ]
    },
    {
      "cell_type": "markdown",
      "metadata": {
        "id": "HbgXLXpkvUbF"
      },
      "source": [
        "### 01) WAP to count simple interest using function."
      ]
    },
    {
      "cell_type": "code",
      "execution_count": null,
      "metadata": {
        "colab": {
          "base_uri": "https://localhost:8080/"
        },
        "id": "c9rKhrcxvUbH",
        "outputId": "77cb2f38-b5e1-401d-ce5e-54c57561e934"
      },
      "outputs": [
        {
          "output_type": "stream",
          "name": "stdout",
          "text": [
            "Enter Ptincipal amount : 1000\n",
            "ENter intrest rate : 2\n",
            "Enter a time in year : 1\n",
            "simple intrest : 20.0\n"
          ]
        }
      ],
      "source": [
        "def simpleIntrest(a,r,t):\n",
        "  intrest=amount*rate*time//100\n",
        "  return intrest\n",
        "amount=float(input(\"Enter Ptincipal amount : \"))\n",
        "rate=float(input(\"ENter intrest rate : \"))\n",
        "time=float(input(\"Enter a time in year : \"))\n",
        "print(f\"simple intrest : {simpleIntrest(a=amount,r=rate,t=time)}\")"
      ]
    },
    {
      "cell_type": "markdown",
      "metadata": {
        "id": "mcZMXuBovUbK"
      },
      "source": [
        "### 02) WAP that defines a function to add first n numbers."
      ]
    },
    {
      "cell_type": "code",
      "execution_count": null,
      "metadata": {
        "colab": {
          "base_uri": "https://localhost:8080/"
        },
        "id": "N9zShN5fvUbL",
        "outputId": "fa7d9a75-8c6f-44ab-e91a-261c316d9ead"
      },
      "outputs": [
        {
          "output_type": "stream",
          "name": "stdout",
          "text": [
            "ENter a last number,n : 10\n",
            "Sum of 1 to n number is : 55\n"
          ]
        }
      ],
      "source": [
        "def addition(n):\n",
        "  sum=0\n",
        "  for i in range(n):\n",
        "    sum+=i\n",
        "  return sum\n",
        "num1=int(input(\"ENter a last number,n : \"))\n",
        "print(f\"Sum of 1 to n number is : {addition(num1+1)}\")"
      ]
    },
    {
      "cell_type": "markdown",
      "metadata": {
        "id": "5l7RWVrqvUbN"
      },
      "source": [
        "### 03) WAP to find maximum number from given two numbers using function."
      ]
    },
    {
      "cell_type": "code",
      "execution_count": null,
      "metadata": {
        "colab": {
          "base_uri": "https://localhost:8080/"
        },
        "id": "j4ahMn5JvUbP",
        "outputId": "6640590f-ef00-43e6-9545-d9e4d5dd5580"
      },
      "outputs": [
        {
          "output_type": "stream",
          "name": "stdout",
          "text": [
            "Enter a 1st number : 12\n",
            "ENter 2nd number : 11\n",
            "max number : 12\n"
          ]
        }
      ],
      "source": [
        "max1=lambda a,b : a if a>b else b\n",
        "num1=int(input(\"Enter a 1st number : \"))\n",
        "num2=int(input(\"ENter 2nd number : \"))\n",
        "print(f\"max number : {max1(num1,num2)}\")"
      ]
    },
    {
      "cell_type": "markdown",
      "metadata": {
        "id": "M0TgRtefvUbT"
      },
      "source": [
        "### 04) WAP that defines a function which returns 1 if the number is prime otherwise return 0."
      ]
    },
    {
      "cell_type": "code",
      "execution_count": null,
      "metadata": {
        "colab": {
          "base_uri": "https://localhost:8080/"
        },
        "id": "qGWGVCfbvUbV",
        "outputId": "b6587940-76d3-4c7c-8baa-fd1771457392"
      },
      "outputs": [
        {
          "name": "stdout",
          "output_type": "stream",
          "text": [
            "Enter a number : 1\n"
          ]
        },
        {
          "output_type": "execute_result",
          "data": {
            "text/plain": [
              "True"
            ]
          },
          "metadata": {},
          "execution_count": 51
        }
      ],
      "source": [
        "def primeNumber(n):\n",
        "  for i in range(2,int(n**0.5)+1):\n",
        "    if(n%i==0):\n",
        "      return False\n",
        "  else:\n",
        "    return True\n",
        "n=int(input(\"Enter a number : \"))\n",
        "primeNumber(n)"
      ]
    },
    {
      "cell_type": "markdown",
      "metadata": {
        "id": "-Uj3eKAovUbW"
      },
      "source": [
        "### 05) Write a function called primes that takes an integer value as an argument and returns a list of all prime numbers up to that number."
      ]
    },
    {
      "cell_type": "code",
      "execution_count": 2,
      "metadata": {
        "colab": {
          "base_uri": "https://localhost:8080/",
          "height": 0
        },
        "id": "OAnXpUl7vUbY",
        "outputId": "0946797a-b514-4f76-f9a3-f09efd1ba167"
      },
      "outputs": [
        {
          "name": "stdout",
          "output_type": "stream",
          "text": [
            "Enter a Number : 100\n"
          ]
        },
        {
          "output_type": "execute_result",
          "data": {
            "text/plain": [
              "[2,\n",
              " 3,\n",
              " 5,\n",
              " 7,\n",
              " 11,\n",
              " 13,\n",
              " 17,\n",
              " 19,\n",
              " 23,\n",
              " 29,\n",
              " 31,\n",
              " 37,\n",
              " 41,\n",
              " 43,\n",
              " 47,\n",
              " 53,\n",
              " 59,\n",
              " 61,\n",
              " 67,\n",
              " 71,\n",
              " 73,\n",
              " 79,\n",
              " 83,\n",
              " 89,\n",
              " 97]"
            ]
          },
          "metadata": {},
          "execution_count": 2
        }
      ],
      "source": [
        "# def primeNum(n):\n",
        "  # for j in range(2,n+1):\n",
        "  #   for i in range(2,int(j**0.5)+1):\n",
        "  #     if(j%i==0):\n",
        "  #       break;\n",
        "  #   else:\n",
        "  #     primeNum.append(j)\n",
        "def primeNumber(n):\n",
        "  for i in range(2,int(n**0.5)+1):\n",
        "    if(n%i==0):\n",
        "      return False\n",
        "  else:\n",
        "    return True\n",
        "n=int(input(\"Enter a Number : \"))\n",
        "[i for i in range(2,n+1) if primeNumber(i)]\n"
      ]
    },
    {
      "cell_type": "markdown",
      "metadata": {
        "id": "vETD6zv7vUbZ"
      },
      "source": [
        "### 06) WAP to generate Fibonacci series of N given number using function name fibbo. (e.g. 0 1 1 2 3 5 8...)"
      ]
    },
    {
      "cell_type": "code",
      "execution_count": null,
      "metadata": {
        "colab": {
          "base_uri": "https://localhost:8080/"
        },
        "id": "EbRg0UO1vUbb",
        "outputId": "deebbbfa-2eb6-401f-9e46-56ec873f6dfc"
      },
      "outputs": [
        {
          "name": "stdout",
          "output_type": "stream",
          "text": [
            "Enter a number : 8\n"
          ]
        },
        {
          "output_type": "execute_result",
          "data": {
            "text/plain": [
              "[0, 1, 1, 2, 3, 5, 8, 13]"
            ]
          },
          "metadata": {},
          "execution_count": 55
        }
      ],
      "source": [
        "def fibbo(n):\n",
        "  list_fibonacci=[i for i in range(n)]\n",
        "  for i in range(2,n):\n",
        "    list_fibonacci[i]=list_fibonacci[i-1]+list_fibonacci[i-2]\n",
        "  return list_fibonacci\n",
        "number=int(input(\"Enter a number : \"))\n",
        "fibbo(number)"
      ]
    },
    {
      "cell_type": "markdown",
      "metadata": {
        "id": "Kh6e9TeTvUbc"
      },
      "source": [
        "### 07) WAP to find the factorial of a given number using recursion."
      ]
    },
    {
      "cell_type": "code",
      "execution_count": null,
      "metadata": {
        "colab": {
          "base_uri": "https://localhost:8080/"
        },
        "id": "FvsYegHBvUbd",
        "outputId": "d25be38c-5911-4b77-baa8-be81919a1494"
      },
      "outputs": [
        {
          "output_type": "stream",
          "name": "stdout",
          "text": [
            "Enter a number:4\n",
            "24\n"
          ]
        }
      ],
      "source": [
        "factorial=lambda n:1 if(n in [0,1]) else n*factorial(n-1)\n",
        "print(factorial(int(input(\"Enter a number:\"))))"
      ]
    },
    {
      "cell_type": "markdown",
      "metadata": {
        "id": "444tIllKvUbe"
      },
      "source": [
        "### 08) WAP to implement simple calculator using lamda function."
      ]
    },
    {
      "cell_type": "code",
      "execution_count": 4,
      "metadata": {
        "id": "1e5wrpHqvUbg",
        "colab": {
          "base_uri": "https://localhost:8080/",
          "height": 0
        },
        "outputId": "8a2379d0-fcb0-47aa-fbe9-63c6092bddc2"
      },
      "outputs": [
        {
          "output_type": "stream",
          "name": "stdout",
          "text": [
            "Enter a number1 : 12\n",
            "Enter a number2 : 2\n",
            "12 + 2 : 14\n",
            "12 - 2 : 10\n",
            "12 * 2 : 24\n",
            "12 / 2 : 6.0\n"
          ]
        }
      ],
      "source": [
        "num1=int(input(\"Enter a number1 : \"))\n",
        "num2=int(input(\"Enter a number2 : \"))\n",
        "calc=lambda a,b,op:a+b if op=='+' else a-b if op=='-' else a*b if op=='*' else round(a/b,2)\n",
        "print(f'{num1} + {num2} : {calc(num1,num2,\"+\")}')\n",
        "print(f'{num1} - {num2} : {calc(num1,num2,\"-\")}')\n",
        "print(f'{num1} * {num2} : {calc(num1,num2,\"*\")}')\n",
        "print(f'{num1} / {num2} : {calc(num1,num2,\"/\")}')"
      ]
    },
    {
      "cell_type": "markdown",
      "metadata": {
        "id": "L8ztc1vdvUbi"
      },
      "source": [
        "### 09)Write a Python program that accepts a hyphen-separated sequence of words as input and prints the words in a hyphen-separated sequence after sorting them alphabetically\n",
        "Sample Items : green-red-yellow-black-white <br>\n",
        "Expected Result : black-green-red-white-yellow"
      ]
    },
    {
      "cell_type": "code",
      "execution_count": 16,
      "metadata": {
        "id": "gFcY06LnvUbl",
        "colab": {
          "base_uri": "https://localhost:8080/",
          "height": 0
        },
        "outputId": "8c1a35f4-f7b4-4024-a6bc-ac685decd814"
      },
      "outputs": [
        {
          "output_type": "stream",
          "name": "stdout",
          "text": [
            "black-green-red-white-yellow\n"
          ]
        }
      ],
      "source": [
        "\n",
        "sampleItems = \"green-red-yellow-black-white\"\n",
        "list1=sampleItems.split(\"-\")\n",
        "list1.sort()\n",
        "print(\"-\".join(list1))\n"
      ]
    },
    {
      "cell_type": "markdown",
      "metadata": {
        "id": "woF9h2CZvUbl"
      },
      "source": [
        "### 10) Write a python program to implement all function arguments type\n",
        "Positional arguments <Br>\n",
        "Default argument <Br>\n",
        "Keyword arguments (named arguments) <Br>\n",
        "Arbitrary arguments (variable-length arguments args and kwargs)"
      ]
    },
    {
      "cell_type": "code",
      "execution_count": 17,
      "metadata": {
        "id": "IU_yQwOGvUbn",
        "colab": {
          "base_uri": "https://localhost:8080/",
          "height": 0
        },
        "outputId": "aabe7aef-8128-4279-cffc-6774cd9c5749"
      },
      "outputs": [
        {
          "output_type": "stream",
          "name": "stdout",
          "text": [
            "Enter Number : 12\n",
            "Enter Number : 12\n",
            "Positional arguments  24\n",
            "Enter Number : 10\n",
            "Default argument  20\n"
          ]
        }
      ],
      "source": [
        "a = int(input(\"Enter Number : \"))\n",
        "b = int(input(\"Enter Number : \"))\n",
        "positionalArguments = lambda a,b : a+b\n",
        "print(\"Positional arguments \",positionalArguments(a,b))\n",
        "\n",
        "a = int(input(\"Enter Number : \"))\n",
        "defaultArgument = lambda a,b=10 : a+b\n",
        "print(\"Default argument \",defaultArgument(a))"
      ]
    },
    {
      "cell_type": "code",
      "execution_count": 19,
      "metadata": {
        "id": "oFpQXDv1vUbn",
        "colab": {
          "base_uri": "https://localhost:8080/",
          "height": 0
        },
        "outputId": "e51a012f-cf48-4287-8387-18e7249739ca"
      },
      "outputs": [
        {
          "output_type": "stream",
          "name": "stdout",
          "text": [
            "Enter Number : 12\n",
            "Enter Number : 12\n",
            "Keyword arguments (named arguments)  24\n",
            "Enter Number : 10\n",
            "Keyword arguments (named arguments)  158\n"
          ]
        }
      ],
      "source": [
        "a = int(input(\"Enter Number : \"))\n",
        "b = int(input(\"Enter Number : \"))\n",
        "def keywordArguments(a,b):\n",
        "    return a+b\n",
        "print(\"Keyword arguments (named arguments) \",keywordArguments(b=a,a=b))\n",
        "\n",
        "a = int(input(\"Enter Number : \"))\n",
        "def arbitraryArguments(a,*b):\n",
        "    sums = a\n",
        "    for i in b:\n",
        "        sums+=i\n",
        "    return sums\n",
        "print(\"Keyword arguments (named arguments) \",arbitraryArguments(a,5,10,12,121))"
      ]
    },
    {
      "cell_type": "markdown",
      "metadata": {
        "id": "HtbfyzhfvUbo"
      },
      "source": [
        "### 01) WAP to calculate power of a number using recursion."
      ]
    },
    {
      "cell_type": "code",
      "execution_count": 25,
      "metadata": {
        "id": "bxGOjar-vUbp",
        "colab": {
          "base_uri": "https://localhost:8080/",
          "height": 0
        },
        "outputId": "83d0114c-c0f0-4b11-c67d-5eeaa3b98052"
      },
      "outputs": [
        {
          "output_type": "stream",
          "name": "stdout",
          "text": [
            "Enter a exponent : 13\n",
            "Enter a power : 2\n",
            "13^2 : 169\n"
          ]
        }
      ],
      "source": [
        "power=lambda x,y:1 if y==0 else x*power(x,y-1)\n",
        "exponent=int(input(\"Enter a exponent : \"))\n",
        "pow=int(input(\"Enter a power : \"))\n",
        "print(f\"{exponent}^{pow} : {power(exponent,pow)}\")\n"
      ]
    },
    {
      "cell_type": "markdown",
      "metadata": {
        "id": "GMF6EZTdvUbp"
      },
      "source": [
        "### 02) WAP to count digits of a number using recursion."
      ]
    },
    {
      "cell_type": "code",
      "execution_count": 28,
      "metadata": {
        "id": "wgoS3X3EvUbq",
        "colab": {
          "base_uri": "https://localhost:8080/",
          "height": 0
        },
        "outputId": "c9403148-ad06-4281-b2a0-d285457ddbef"
      },
      "outputs": [
        {
          "output_type": "stream",
          "name": "stdout",
          "text": [
            "Enter a number : 123456789\n",
            "sum of digits of 123456789 : 45\n"
          ]
        }
      ],
      "source": [
        "digitSum=lambda n: 0 if n==0 else (n%10)+digitSum(n//10)\n",
        "num1=int(input(\"Enter a number : \"))\n",
        "print(f\"sum of digits of {num1} : {digitSum(num1)}\")"
      ]
    },
    {
      "cell_type": "markdown",
      "metadata": {
        "id": "spvWAIywvUbr"
      },
      "source": [
        "### 03) WAP to reverse an integer number using recursion."
      ]
    },
    {
      "cell_type": "code",
      "execution_count": 35,
      "metadata": {
        "id": "Wn1vLs_UvUbr",
        "colab": {
          "base_uri": "https://localhost:8080/",
          "height": 0
        },
        "outputId": "148e14f4-0647-4e2b-a85d-71f51721fffc"
      },
      "outputs": [
        {
          "output_type": "stream",
          "name": "stdout",
          "text": [
            "ENter a number : 123\n",
            "321\n"
          ]
        }
      ],
      "source": [
        "digit=lambda n,r: r if n==0 else digit(n//10,(r*10)+(n%10))\n",
        "num=int(input(\"ENter a number : \"))\n",
        "res=0\n",
        "print(digit(num,res))\n"
      ]
    },
    {
      "cell_type": "markdown",
      "metadata": {
        "id": "BE-sXXv0vUbs"
      },
      "source": [
        "### 04) WAP to convert decimal number into binary using recursion."
      ]
    },
    {
      "cell_type": "code",
      "execution_count": 36,
      "metadata": {
        "id": "UJF4pLYmvUbt",
        "colab": {
          "base_uri": "https://localhost:8080/",
          "height": 0
        },
        "outputId": "57dfcd6d-4af4-416c-e37f-ed7b7c110023"
      },
      "outputs": [
        {
          "output_type": "stream",
          "name": "stdout",
          "text": [
            "Enter Number : 8\n",
            "Binary :  1000\n"
          ]
        }
      ],
      "source": [
        "def decimalToBinary(n):\n",
        "    if n==0:\n",
        "        return 0\n",
        "    else:\n",
        "        return n%2+10*(decimalToBinary(n//2))\n",
        "\n",
        "n = int(input(\"Enter Number : \"))\n",
        "ans = decimalToBinary(n)\n",
        "print(\"Binary : \",ans)"
      ]
    }
  ],
  "metadata": {
    "kernelspec": {
      "display_name": "Python 3 (ipykernel)",
      "language": "python",
      "name": "python3"
    },
    "language_info": {
      "codemirror_mode": {
        "name": "ipython",
        "version": 3
      },
      "file_extension": ".py",
      "mimetype": "text/x-python",
      "name": "python",
      "nbconvert_exporter": "python",
      "pygments_lexer": "ipython3",
      "version": "3.9.13"
    },
    "colab": {
      "provenance": []
    }
  },
  "nbformat": 4,
  "nbformat_minor": 0
}